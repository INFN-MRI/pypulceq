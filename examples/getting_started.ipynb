{
 "cells": [
  {
   "cell_type": "markdown",
   "id": "8a79497d-bd28-464a-9c3d-f3e331d66303",
   "metadata": {},
   "source": [
    "# Usage example"
   ]
  },
  {
   "cell_type": "code",
   "execution_count": 1,
   "id": "2dc8199f-6998-44fc-aa45-b178da103f85",
   "metadata": {},
   "outputs": [
    {
     "name": "stderr",
     "output_type": "stream",
     "text": [
      "/home/local/IMAGO7/mcencini/.conda/envs/deep-mr/lib/python3.9/site-packages/tqdm/auto.py:21: TqdmWarning: IProgress not found. Please update jupyter and ipywidgets. See https://ipywidgets.readthedocs.io/en/stable/user_install.html\n",
      "  from .autonotebook import tqdm as notebook_tqdm\n"
     ]
    },
    {
     "name": "stdout",
     "output_type": "stream",
     "text": [
      "Skipping installation\n"
     ]
    }
   ],
   "source": [
    "# Run before execution for Colab\n",
    "import os\n",
    "\n",
    "try:\n",
    "    import google.colab\n",
    "\n",
    "    IN_COLAB = True\n",
    "except:\n",
    "    IN_COLAB = False\n",
    "\n",
    "try:\n",
    "    import pypulceq\n",
    "\n",
    "    HAS_PYPULCEQ = True\n",
    "except:\n",
    "    HAS_PYPULCEQ = False\n",
    "\n",
    "# set environment variable\n",
    "if IN_COLAB and not (HAS_PYPULCEQ):\n",
    "    print(\"Installing PyPulCeq in COLAB\")\n",
    "    !pip install git+https://github.com/INFN-PREDATOR/pypulceq.git@main\n",
    "else:\n",
    "    print(\"Skipping installation\")"
   ]
  },
  {
   "cell_type": "markdown",
   "id": "97303770-53b5-4032-bd78-06c81dadc1fc",
   "metadata": {},
   "source": [
    "Pypulceq can be used to convert ``pypulseq.Sequence`` objects to the GE interpreter (``TOPPE``) file format.\n",
    "\n",
    "The package can be imported and used in Python scripts. For example, we can convert a Cartesian 3D SPGR Pulseq sequence as follows:\n",
    "\n",
    "1. Design the sequence using [PyPulseq](https://github.com/imr-framework/pypulseq)"
   ]
  },
  {
   "cell_type": "code",
   "execution_count": 2,
   "id": "a4596b03-0514-44d6-ae52-9590431239f1",
   "metadata": {},
   "outputs": [
    {
     "name": "stderr",
     "output_type": "stream",
     "text": [
      "100%|█████████████████████████████████████████████████████████████████████████████████████████████████████████████████████████████████████████████████████████████████████████| 33/33 [00:00<00:00, 93.04it/s]\n"
     ]
    },
    {
     "name": "stdout",
     "output_type": "stream",
     "text": [
      "Timing check passed successfully\n"
     ]
    }
   ],
   "source": [
    "# imports\n",
    "import pypulceq\n",
    "\n",
    "# design a sequence object - here we use a pre-packaged example\n",
    "seq = pypulceq.demo.design_gre(fov=(32, 32), mtx=(32, 32))  # 1x1x1.2 mm3 voxel size"
   ]
  },
  {
   "cell_type": "markdown",
   "id": "3cf5a7f4-bd04-4a69-8191-b8a66d0e694b",
   "metadata": {},
   "source": [
    "2. Perform actual conversion"
   ]
  },
  {
   "cell_type": "code",
   "execution_count": 3,
   "id": "7cfa6bd2-212a-4ae8-979a-8073b28aa87a",
   "metadata": {},
   "outputs": [
    {
     "name": "stdout",
     "output_type": "stream",
     "text": [
      "Removing duplicates from seq object...\tdone!\n",
      "\n",
      "Selecting all blocks...\tdone!\n",
      "\n",
      "Getting scan dynamics...\tdone!\n",
      "\n",
      "Getting parent blocks...\tdone! Found 7 parent blocks.\n",
      "\n",
      "Setting parent blocks amplitudes to max...\tdone!\n",
      "\n",
      "Segment labels not found; attempt to determine it automatically...\tdone! Found 2 segments.\n",
      "\n",
      "Converting Pulseq blocks to TOPPE modules...\tdone!\n",
      "\n",
      "Writing sequence modules...\tdone!\n",
      "\n",
      "Writing modules list...\tdone!\n",
      "\n",
      "Writing group list...\tdone!\n",
      "\n",
      "Writing scan loop...\t"
     ]
    },
    {
     "name": "stderr",
     "output_type": "stream",
     "text": [
      "/home/local/IMAGO7/mcencini/M/PREDATOR/pypulceq/src/pypulceq/_interp.py:110: UserWarning: Gradient area for parent block 1 were not preserved after interpolating to GE raster time (in: 125.417 1/m, out: 125.400). Did you wrap all gradient events in trap4ge?\n",
      "  warnings.warn(f\"{warning_msg}\")\n"
     ]
    },
    {
     "name": "stdout",
     "output_type": "stream",
     "text": [
      "done!\n",
      "\n",
      "Writing entry file...\tdone!\n",
      "\n",
      "preflightcheck: Checking max 10s SAR, \n",
      "time interval 0-10s (scan duration: 13s)\n",
      "time interval 5-15s (scan duration: 13s)\n",
      "\n",
      "\n",
      "\tPredicted peak 10s SAR in a 150 lbs subject: 0.0 W/kg\n",
      "Archive and clean-up...\tdone!\n",
      "\n",
      "Sequence file cart_toppe ready for execution on GE scanners\n",
      "\n"
     ]
    }
   ],
   "source": [
    "pypulceq.seq2ge(\"cart_toppe\", seq, verbose=True, nviews=32, nslices=32)"
   ]
  },
  {
   "cell_type": "markdown",
   "id": "3f441e83-dbe1-4d1b-b529-a97bacac8d86",
   "metadata": {},
   "source": [
    "This function can be used inside PyPulseq design routines to export the same sequence for either Siemens or GE intepreters, e.g.:"
   ]
  },
  {
   "cell_type": "code",
   "execution_count": 4,
   "id": "99d4bba4-b087-4d11-bb88-b1d19e930bf3",
   "metadata": {},
   "outputs": [],
   "source": [
    "def mygredesign(fname, fov, mtx, interpreter):\n",
    "    \"\"\"\n",
    "    Vendor agnostic 3D GRE.\n",
    "\n",
    "    Parameters\n",
    "    ----------\n",
    "    fname : str\n",
    "        Sequence filename ('fname.seq' for Siemens, 'fname.tar' for GEHC').\n",
    "    fov : tuple\n",
    "        Image field of view (in-plane, slab).\n",
    "    mtx : tuple\n",
    "        Image matrix size (nx=ny, nz).\n",
    "    interpreter : str\n",
    "        Desired interpreter (\"Siemens\" or \"GEHC\")\n",
    "\n",
    "    \"\"\"\n",
    "    # design code block (replace with actual PyPulseq functions)\n",
    "    seq = pypulceq.demo.design_gre(fov=fov, mtx=mtx)\n",
    "\n",
    "    # 'interpreter' agnostic export section\n",
    "    if interpreter == \"Siemens\":\n",
    "        seq.write(f\"{fname}.seq\")\n",
    "    elif interpreter == \"GEHC\":\n",
    "        pypulceq.seq2ge(fname, seq, verbose=True, nviews=mtx[0], nslices=mtx[1])"
   ]
  },
  {
   "cell_type": "markdown",
   "id": "64ff23af-63c8-4a39-aaca-1be2c01285b1",
   "metadata": {},
   "source": [
    "In alternative, we provide a Command Line Interface to convert existing ``.seq`` files:"
   ]
  },
  {
   "cell_type": "code",
   "execution_count": 5,
   "id": "49176adb-9c1c-4653-a0b5-15239a427743",
   "metadata": {},
   "outputs": [
    {
     "data": {
      "text/plain": [
       "'ca0e7cb1bfc2c6f680c3612d0e41449f'"
      ]
     },
     "execution_count": 5,
     "metadata": {},
     "output_type": "execute_result"
    }
   ],
   "source": [
    "seq.write(\"cart_pypulseq.seq\")  # assume we saved the sequence on disk"
   ]
  },
  {
   "cell_type": "code",
   "execution_count": 8,
   "id": "1ad0c25d-2804-49a6-9705-d0397c670858",
   "metadata": {},
   "outputs": [
    {
     "name": "stdout",
     "output_type": "stream",
     "text": [
      "Reading .seq file...\tdone!\n",
      "\n",
      "Selecting all blocks...\tdone!\n",
      "\n",
      "Getting scan dynamics...\tdone!\n",
      "\n",
      "Getting parent blocks...\tdone! Found 7 parent blocks.\n",
      "\n",
      "Setting parent blocks amplitudes to max...\tdone!\n",
      "\n",
      "Segment labels not found; attempt to determine it automatically...\tdone! Found 2 segments.\n",
      "\n",
      "/home/local/IMAGO7/mcencini/M/PREDATOR/pypulceq/src/pypulceq/_interp.py:110: UserWarning: Gradient area for parent block 1 were not preserved after interpolating to GE raster time (in: 125.417 1/m, out: 125.400). Did you wrap all gradient events in trap4ge?\n",
      "  warnings.warn(f\"{warning_msg}\")\n",
      "Converting Pulseq blocks to TOPPE modules...\tdone!\n",
      "\n",
      "Writing sequence modules...\tdone!\n",
      "\n",
      "Writing modules list...\tdone!\n",
      "\n",
      "Writing group list...\tdone!\n",
      "\n",
      "Writing scan loop...\tdone!\n",
      "\n",
      "Writing entry file...\tdone!\n",
      "\n",
      "preflightcheck: Checking max 10s SAR, \n",
      "time interval 0-10s (scan duration: 13s)\n",
      "time interval 5-15s (scan duration: 13s)\n",
      "\n",
      "\n",
      "\tPredicted peak 10s SAR in a 150 lbs subject: 0.0 W/kg\n",
      "Archive and clean-up...\tdone!\n",
      "\n",
      "Sequence file cart_toppe_cli ready for execution on GE scanners\n",
      "\n",
      "\u001b[0m"
     ]
    }
   ],
   "source": [
    "!seq2ge --output-name \"cart_toppe_cli\" --input-file \"cart_pypulseq.seq\" --nviews 32 --nslices 32 --verbose True"
   ]
  },
  {
   "cell_type": "markdown",
   "id": "f89eb159-006e-4d4a-9f46-5ca7015cd6e4",
   "metadata": {},
   "source": [
    "A more detailed description of ``seq2ceq`` CLI can be showed by typing:"
   ]
  },
  {
   "cell_type": "code",
   "execution_count": 9,
   "id": "e1eac846-2521-48be-9bea-732b40854191",
   "metadata": {},
   "outputs": [
    {
     "name": "stdout",
     "output_type": "stream",
     "text": [
      "Usage: seq2ge [OPTIONS]\n",
      "\n",
      "  Convert a Pulseq file (http://pulseq.github.io/) to a set of files that can\n",
      "  be executed on GE scanners using the TOPPE interpreter (v6).\n",
      "\n",
      "Options:\n",
      "  --output-name TEXT         Name of output .tar sequence file  [required]\n",
      "  --input-file TEXT          Path on disk to input Pulseq file (.seq) to be\n",
      "                             converted  [required]\n",
      "  --sequence-path TEXT       location of sequence files on scanner  [default:\n",
      "                             /usr/g/research/pulseq/v6/seq2ge/]\n",
      "  --nviews INTEGER           number of views, i.e., frequency encodings for a\n",
      "                             single k-space volume (e.g., phase encoding\n",
      "                             lines).  [default: 600]\n",
      "  --nslices INTEGER          number of slices / slab-encodings.  [default:\n",
      "                             2048]\n",
      "  --verbose BOOLEAN          Display information.  [default: True]\n",
      "  --ignore-trigger BOOLEAN   ignore TTL pulses in sequence  [default: False]\n",
      "  --ignore-segments BOOLEAN  assign each parent block to individual segment\n",
      "                             [default: False]\n",
      "  --help                     Show this message and exit.\n",
      "\u001b[0m"
     ]
    }
   ],
   "source": [
    "!seq2ge --help"
   ]
  }
 ],
 "metadata": {
  "kernelspec": {
   "display_name": "Python 3 (ipykernel)",
   "language": "python",
   "name": "python3"
  },
  "language_info": {
   "codemirror_mode": {
    "name": "ipython",
    "version": 3
   },
   "file_extension": ".py",
   "mimetype": "text/x-python",
   "name": "python",
   "nbconvert_exporter": "python",
   "pygments_lexer": "ipython3",
   "version": "3.9.18"
  }
 },
 "nbformat": 4,
 "nbformat_minor": 5
}
